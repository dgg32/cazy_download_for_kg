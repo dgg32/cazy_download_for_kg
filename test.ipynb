{
 "cells": [
  {
   "cell_type": "code",
   "execution_count": 3,
   "metadata": {},
   "outputs": [],
   "source": [
    "import pandas as pd\n",
    "import numpy as np\n",
    "import json"
   ]
  },
  {
   "cell_type": "code",
   "execution_count": 2,
   "metadata": {},
   "outputs": [],
   "source": [
    "taxon = pd.read_csv(\"data_for_neo4j_bacteroidetes/taxon.csv\")\n",
    "connection = pd.read_csv(\"data_for_neo4j_bacteroidetes/genome_connections.csv\")"
   ]
  },
  {
   "cell_type": "code",
   "execution_count": 3,
   "metadata": {},
   "outputs": [],
   "source": [
    "taxon_names = set(taxon.name.unique())"
   ]
  },
  {
   "cell_type": "code",
   "execution_count": 4,
   "metadata": {},
   "outputs": [],
   "source": [
    "from_name = set(connection[\"from\"].unique())\n",
    "to_name = set(connection[\"to\"].unique())"
   ]
  },
  {
   "cell_type": "code",
   "execution_count": 5,
   "metadata": {},
   "outputs": [
    {
     "data": {
      "text/plain": [
       "{'Bacteroides caccae',\n",
       " 'Bacteroides cellulosilyticus',\n",
       " 'Bacteroides clarus',\n",
       " 'Bacteroides fragilis',\n",
       " 'Bacteroides stercoris',\n",
       " 'Bacteroides thetaiotaomicron',\n",
       " 'Bacteroides xylanisolvens',\n",
       " 'Blattabacterium punctulatus',\n",
       " 'Echinicola pacifica',\n",
       " 'Elizabethkingia meningoseptica',\n",
       " 'Flavobacterium johnsoniae',\n",
       " 'Flexithrix dorotheae',\n",
       " 'Niabella aurantiaca',\n",
       " 'Pedobacter heparinus',\n",
       " 'Phocaeicola dorei',\n",
       " 'Phocaeicola plebeius',\n",
       " 'Phocaeicola vulgatus',\n",
       " 'Porphyromonas gingivalis',\n",
       " 'Prevotella copri',\n",
       " 'Prevotella ruminicola',\n",
       " 'Rhodothermus marinus',\n",
       " 'Tenacibaculum maritimum'}"
      ]
     },
     "execution_count": 5,
     "metadata": {},
     "output_type": "execute_result"
    }
   ],
   "source": [
    "from_name.difference(taxon_names)"
   ]
  },
  {
   "cell_type": "code",
   "execution_count": 16,
   "metadata": {},
   "outputs": [
    {
     "data": {
      "text/plain": [
       "{'Bacteroides caccae',\n",
       " 'Bacteroides cellulosilyticus',\n",
       " 'Bacteroides clarus',\n",
       " 'Bacteroides fragilis',\n",
       " 'Bacteroides stercoris',\n",
       " 'Bacteroides thetaiotaomicron',\n",
       " 'Bacteroides xylanisolvens',\n",
       " 'Blattabacterium punctulatus',\n",
       " 'Echinicola pacifica',\n",
       " 'Elizabethkingia meningoseptica',\n",
       " 'Flavobacterium johnsoniae',\n",
       " 'Flexithrix dorotheae',\n",
       " 'Niabella aurantiaca',\n",
       " 'Pedobacter heparinus',\n",
       " 'Phocaeicola dorei',\n",
       " 'Phocaeicola plebeius',\n",
       " 'Phocaeicola vulgatus',\n",
       " 'Porphyromonas gingivalis',\n",
       " 'Prevotella copri',\n",
       " 'Prevotella ruminicola',\n",
       " 'Rhodothermus marinus',\n",
       " 'Tenacibaculum maritimum'}"
      ]
     },
     "execution_count": 16,
     "metadata": {},
     "output_type": "execute_result"
    }
   ],
   "source": [
    "to_name.difference(taxon_names)"
   ]
  },
  {
   "cell_type": "code",
   "execution_count": 4,
   "metadata": {},
   "outputs": [
    {
     "name": "stdout",
     "output_type": "stream",
     "text": [
      "{'cazy': {'GT5': 1}, 'taxonomy': {'species': ['Candidatus Uzinura diaspidicola', 670956], 'order': ['Flavobacteriales', 200644], 'class': ['Flavobacteriia', 117743], 'phylum': ['Bacteroidetes', 976], 'superkingdom': ['Bacteria', 2]}, 'name': 'Candidatus Uzinura diaspidicola str. ASNER', 'taxid': 1133592, 'column': 'genome'}\n"
     ]
    }
   ],
   "source": [
    "for line in open(\"raw_data/bacteroidetes_2022_09_03.json\"):\n",
    "    data = json.loads(line)\n",
    "    cazy = data[\"cazy\"]\n",
    "\n",
    "    if \"GT51\" not in cazy:\n",
    "        print (data)"
   ]
  },
  {
   "cell_type": "code",
   "execution_count": null,
   "metadata": {},
   "outputs": [],
   "source": []
  }
 ],
 "metadata": {
  "kernelspec": {
   "display_name": "Python 3.9.7 ('base')",
   "language": "python",
   "name": "python3"
  },
  "language_info": {
   "codemirror_mode": {
    "name": "ipython",
    "version": 3
   },
   "file_extension": ".py",
   "mimetype": "text/x-python",
   "name": "python",
   "nbconvert_exporter": "python",
   "pygments_lexer": "ipython3",
   "version": "3.9.7"
  },
  "orig_nbformat": 4,
  "vscode": {
   "interpreter": {
    "hash": "ad2bdc8ecc057115af97d19610ffacc2b4e99fae6737bb82f5d7fb13d2f2c186"
   }
  }
 },
 "nbformat": 4,
 "nbformat_minor": 2
}
