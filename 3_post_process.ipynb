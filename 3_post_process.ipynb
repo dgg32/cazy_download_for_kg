{
 "cells": [
  {
   "cell_type": "code",
   "execution_count": null,
   "metadata": {},
   "outputs": [],
   "source": [
    "is_header = False\n",
    "for line in open(\"./raw_data/cazy_gpt3_extract.tsv\", 'r'):\n",
    "    if is_header == False:\n",
    "        is_header = True\n",
    "    else:\n",
    "        relations = line.strip().split(\"\\t\")[2]\n",
    "\n",
    "        fields = relations.split(\"|\")\n",
    "        #print (fields)\n",
    "        subject = fields[0]\n",
    "        verb = fields[1]\n",
    "        object = fields[2]\n",
    "\n",
    "        activity_output = open(\"./raw_data/cazy_subfamily_relation.tsv\", 'a')\n",
    "        activity_output.write(f'{subject}\\t{object}\\t{verb}\\n')\n",
    "        activity_output.close()"
   ]
  },
  {
   "cell_type": "code",
   "execution_count": null,
   "metadata": {},
   "outputs": [],
   "source": [
    "import sys\n",
    "import pandas as pd\n",
    "import os\n",
    "\n",
    "#input_file = sys.argv[1]\n",
    "\n",
    "input_file = \"./raw_data/cazy_subfamily_relation.tsv\"\n",
    "\n",
    "df = pd.read_csv(input_file, sep='\\t')\n",
    "\n",
    "df[\"doi\"] = \"CAZy\"\n",
    "\n",
    "df[\"primary\"] = 1\n",
    "\n",
    "subfiles = df.action.unique()\n",
    "\n",
    "\n",
    "    #print (df[df.action == s])\n",
    "    \n",
    "    #newfile = os.path.join(output_folder, s + \".tsv\")\n",
    "\n",
    "df.loc[df.action == \"BINDS\", \"to\"] = df[df.action == \"BINDS\"][\"to\"].str.lower()\n",
    "\n",
    "df.to_csv(\"./raw_data/cazy_subfamily_relation_lower.tsv\", sep=\"\\t\", index=False) "
   ]
  },
  {
   "cell_type": "code",
   "execution_count": null,
   "metadata": {},
   "outputs": [],
   "source": [
    "#denormalize the relation file\n",
    "import sys\n",
    "import pandas as pd\n",
    "import os\n",
    "\n",
    "input_file = \"./raw_data/cazy_subfamily_relation_lower.tsv\"\n",
    "output_folder = \"./data_for_neo4j_bacteroidetes\"\n",
    "\n",
    "df = pd.read_csv(input_file, sep='\\t')\n",
    "\n",
    "df[\"doi\"] = \"CAZy\"\n",
    "\n",
    "df[\"primary\"] = 1\n",
    "\n",
    "subfiles = df.action.unique()\n",
    "\n",
    "for s in subfiles:\n",
    "    #print (df[df.action == s])\n",
    "    \n",
    "    newfile = os.path.join(output_folder, s + \".tsv\")\n",
    "\n",
    "    df[df.action == s].to_csv(newfile, sep=\"\\t\", index=False) "
   ]
  },
  {
   "cell_type": "code",
   "execution_count": null,
   "metadata": {},
   "outputs": [],
   "source": [
    "import sys\n",
    "import entity_linkage\n",
    "import os\n",
    "\n",
    "#input_file = sys.argv[1]\n",
    "\n",
    "input_file = \"./data_for_neo4j_bacteroidetes/BINDS.tsv\"\n",
    "\n",
    "content = f\"from\\tto\\taction\\tdoi\\tprimary\\n\"\n",
    "\n",
    "is_header = False\n",
    "for line in open(input_file, 'r'):\n",
    "    if is_header == False:\n",
    "        is_header = True\n",
    "    else:\n",
    "        fields = line.strip().split(\"\\t\")\n",
    "        if len(fields) == 5:\n",
    "            sugar = fields[1]\n",
    "\n",
    "            corrected_name = entity_linkage.name_disambiguation(sugar)\n",
    "            content += f\"{fields[0]}\\t{corrected_name}\\t\" + \"\\t\".join(fields[2:]) + \"\\n\"\n",
    "\n",
    "sugar_output = open(\"./data_for_neo4j_bacteroidetes/BINDS.tsv\", 'w')\n",
    "sugar_output.write(content)\n",
    "sugar_output.close()\n"
   ]
  },
  {
   "cell_type": "code",
   "execution_count": null,
   "metadata": {},
   "outputs": [],
   "source": [
    "### unify the substrate names from BINDS, DEGRADES and polysaccharide_is_a\n",
    "\n",
    "import sys\n",
    "import pandas as pd\n",
    "import os\n",
    "\n",
    "#input_file = sys.argv[1]\n",
    "\n",
    "input_file = \"./data_for_neo4j_bacteroidetes/BINDS.tsv\"\n",
    "\n",
    "df = pd.read_csv(input_file, sep='\\t')\n",
    "\n",
    "sugar = df.to.unique()\n",
    "sugar = set(list(sugar))"
   ]
  },
  {
   "cell_type": "code",
   "execution_count": null,
   "metadata": {},
   "outputs": [],
   "source": [
    "import sys\n",
    "import pandas as pd\n",
    "import os\n",
    "\n",
    "#input_file = sys.argv[1]\n",
    "\n",
    "input_file = \"./data_for_neo4j_bacteroidetes/DEGRADES.tsv\"\n",
    "\n",
    "df = pd.read_csv(input_file, sep='\\t')\n",
    "\n",
    "sugar_1 = df.substrate.unique()\n",
    "sugar_1 = set(list(sugar_1))\n",
    "sugar = sugar.union(sugar_1)\n"
   ]
  },
  {
   "cell_type": "code",
   "execution_count": null,
   "metadata": {},
   "outputs": [],
   "source": [
    "import sys\n",
    "import pandas as pd\n",
    "import os\n",
    "\n",
    "#input_file = sys.argv[1]\n",
    "\n",
    "input_file = \"./data_for_neo4j_bacteroidetes/polysaccharide_is_a.tsv\"\n",
    "\n",
    "df = pd.read_csv(input_file, sep='\\t')\n",
    "\n",
    "sugar_2 = set(list(df[\"from\"].unique())).union(set(list(df[\"to\"].unique())))\n",
    "sugar_2 = set(list(sugar_2))\n",
    "sugar = sugar.union(sugar_2)"
   ]
  },
  {
   "cell_type": "code",
   "execution_count": null,
   "metadata": {},
   "outputs": [],
   "source": [
    "content = \"name\\n\" + \"\\n\".join(list(sugar))\n",
    "\n",
    "sugar_output = open(\"./data_for_neo4j_bacteroidetes/substrate.tsv\", 'w')\n",
    "sugar_output.write(content)\n",
    "sugar_output.close()"
   ]
  }
 ],
 "metadata": {
  "language_info": {
   "name": "python"
  },
  "orig_nbformat": 4
 },
 "nbformat": 4,
 "nbformat_minor": 2
}
