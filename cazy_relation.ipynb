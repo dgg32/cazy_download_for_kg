{
 "cells": [
  {
   "cell_type": "code",
   "execution_count": 4,
   "metadata": {},
   "outputs": [],
   "source": [
    "import json\n",
    "import re"
   ]
  },
  {
   "cell_type": "code",
   "execution_count": 5,
   "metadata": {},
   "outputs": [],
   "source": [
    "input_file = \"./raw_data/cazy_info_2022_05_16.json\""
   ]
  },
  {
   "cell_type": "code",
   "execution_count": 7,
   "metadata": {},
   "outputs": [],
   "source": [
    "relation = \"from\\tto\\taction\\n\"\n",
    "cazy_activity = \"\"\n",
    "\n",
    "for line in open(input_file, 'r'):\n",
    "    data = json.loads(line)\n",
    "    name = data[\"name\"]\n",
    "    #print (name)\n",
    "    if \"_\" in name:\n",
    "        parent = name.split(\"_\")[0]\n",
    "        relation += f'{name}\\t{parent}\\tIS_A\\n'\n",
    "\n",
    "    if \"activity\" in data:\n",
    "        activity = re.sub(r\"<a.+?<\\/a>\", \"\", data[\"activity\"])\n",
    "        #print (f\"{name}: {activity}\")\n",
    "        cazy_activity += f\"{name}\\t{activity}\\n\"\n",
    "\n",
    "relation_output = open(\"./raw_data/cazy_subfamily_relation.tsv\", 'w')\n",
    "relation_output.write(relation)\n",
    "relation_output.close()\n",
    "\n",
    "activity_output = open(\"./raw_data/cazy_activity.tsv\", 'w')\n",
    "activity_output.write(cazy_activity)\n",
    "activity_output.close()\n"
   ]
  },
  {
   "cell_type": "code",
   "execution_count": null,
   "metadata": {},
   "outputs": [],
   "source": []
  }
 ],
 "metadata": {
  "interpreter": {
   "hash": "ad2bdc8ecc057115af97d19610ffacc2b4e99fae6737bb82f5d7fb13d2f2c186"
  },
  "kernelspec": {
   "display_name": "Python 3.9.7 ('base')",
   "language": "python",
   "name": "python3"
  },
  "language_info": {
   "codemirror_mode": {
    "name": "ipython",
    "version": 3
   },
   "file_extension": ".py",
   "mimetype": "text/x-python",
   "name": "python",
   "nbconvert_exporter": "python",
   "pygments_lexer": "ipython3",
   "version": "3.9.7"
  },
  "orig_nbformat": 4
 },
 "nbformat": 4,
 "nbformat_minor": 2
}
